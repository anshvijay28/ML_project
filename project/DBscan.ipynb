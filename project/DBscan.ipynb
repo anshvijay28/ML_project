{
 "cells": [
  {
   "cell_type": "code",
   "execution_count": 1,
   "id": "3c0e4a25-0a87-49d6-ada6-5e2b7fad0443",
   "metadata": {},
   "outputs": [],
   "source": [
    "import numpy as np\n",
    "import pandas as pd\n",
    "import matplotlib.pyplot as plt\n",
    "from sklearn.cluster import DBSCAN"
   ]
  },
  {
   "cell_type": "code",
   "execution_count": null,
   "id": "6d929f33-fc1d-499a-b0d9-fbf9518a8abb",
   "metadata": {},
   "outputs": [],
   "source": [
    "data = pd.read_csv(\"../data/reduced_sustainability_data.csv\")\n",
    "ep = 0.3\n",
    "min = 10\n",
    "model = DBSCAN(eps=ep, min_samples=min)\n",
    "db = model.fit(data)\n"
   ]
  }
 ],
 "metadata": {
  "kernelspec": {
   "display_name": "Python 3 (ipykernel)",
   "language": "python",
   "name": "python3"
  },
  "language_info": {
   "codemirror_mode": {
    "name": "ipython",
    "version": 3
   },
   "file_extension": ".py",
   "mimetype": "text/x-python",
   "name": "python",
   "nbconvert_exporter": "python",
   "pygments_lexer": "ipython3",
   "version": "3.10.8"
  }
 },
 "nbformat": 4,
 "nbformat_minor": 5
}
