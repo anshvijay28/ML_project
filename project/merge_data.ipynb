{
 "cells": [
  {
   "cell_type": "code",
   "execution_count": 1,
   "metadata": {},
   "outputs": [],
   "source": [
    "import polars as pl"
   ]
  },
  {
   "cell_type": "code",
   "execution_count": 2,
   "metadata": {},
   "outputs": [],
   "source": [
    "regions_df = pl.read_csv(\"../data/continents2.csv\", infer_schema_length=0)\n",
    "main_df = pl.read_csv(\"../data/WorldSustainabilityDataset.csv\", infer_schema_length=0)"
   ]
  },
  {
   "cell_type": "code",
   "execution_count": 3,
   "metadata": {},
   "outputs": [
    {
     "data": {
      "text/plain": [
       "['name',\n",
       " 'alpha-2',\n",
       " 'alpha-3',\n",
       " 'country-code',\n",
       " 'iso_3166-2',\n",
       " 'region',\n",
       " 'sub-region',\n",
       " 'intermediate-region',\n",
       " 'region-code',\n",
       " 'sub-region-code',\n",
       " 'intermediate-region-code']"
      ]
     },
     "execution_count": 3,
     "metadata": {},
     "output_type": "execute_result"
    }
   ],
   "source": [
    "regions_df.columns"
   ]
  },
  {
   "cell_type": "code",
   "execution_count": 4,
   "metadata": {},
   "outputs": [
    {
     "data": {
      "text/plain": [
       "['Country Name',\n",
       " 'Country Code',\n",
       " 'Year',\n",
       " 'Access to electricity (% of population) - EG.ELC.ACCS.ZS',\n",
       " 'Adjusted net national income per capita (annual % growth) - NY.ADJ.NNTY.PC.KD.ZG',\n",
       " 'Adjusted net savings, excluding particulate emission damage (% of GNI) - NY.ADJ.SVNX.GN.ZS',\n",
       " 'Adjusted savings: carbon dioxide damage (% of GNI) - NY.ADJ.DCO2.GN.ZS',\n",
       " 'Adjusted savings: natural resources depletion (% of GNI) - NY.ADJ.DRES.GN.ZS',\n",
       " 'Adjusted savings: net forest depletion (% of GNI) - NY.ADJ.DFOR.GN.ZS',\n",
       " 'Adjusted savings: particulate emission damage (% of GNI) - NY.ADJ.DPEM.GN.ZS',\n",
       " 'Automated teller machines (ATMs) (per 100,000 adults) - FB.ATM.TOTL.P5',\n",
       " 'Broad money (% of GDP) - FM.LBL.BMNY.GD.ZS',\n",
       " 'Children out of school (% of primary school age) - SE.PRM.UNER.ZS',\n",
       " 'Compulsory education, duration (years) - SE.COM.DURS',\n",
       " 'Cost of business start-up procedures, female (% of GNI per capita) - IC.REG.COST.PC.FE.ZS',\n",
       " 'Cost of business start-up procedures, male (% of GNI per capita) - IC.REG.COST.PC.MA.ZS',\n",
       " 'Exports of goods and services (% of GDP) - NE.EXP.GNFS.ZS',\n",
       " 'Final consumption expenditure (% of GDP) - NE.CON.TOTL.ZS',\n",
       " 'GDP (current US$) - NY.GDP.MKTP.CD',\n",
       " 'GDP per capita (current US$) - NY.GDP.PCAP.CD',\n",
       " 'General government final consumption expenditure (% of GDP) - NE.CON.GOVT.ZS',\n",
       " 'Gross national expenditure (% of GDP) - NE.DAB.TOTL.ZS',\n",
       " 'Gross savings (% of GDP) - NY.GNS.ICTR.ZS',\n",
       " 'Imports of goods and services (% of GDP) - NE.IMP.GNFS.ZS',\n",
       " 'Inflation, consumer prices (annual %) - FP.CPI.TOTL.ZG',\n",
       " 'Primary completion rate, total (% of relevant age group) - SE.PRM.CMPT.ZS',\n",
       " 'Proportion of seats held by women in national parliaments (%) - SG.GEN.PARL.ZS',\n",
       " 'Pupil-teacher ratio, primary - SE.PRM.ENRL.TC.ZS',\n",
       " 'Renewable electricity output (% of total electricity output) - EG.ELC.RNEW.ZS',\n",
       " 'Renewable energy consumption (% of total final energy consumption) - EG.FEC.RNEW.ZS',\n",
       " 'School enrollment, preprimary (% gross) - SE.PRE.ENRR',\n",
       " 'School enrollment, primary (% gross) - SE.PRM.ENRR',\n",
       " 'School enrollment, secondary (% gross) - SE.SEC.ENRR',\n",
       " 'Trade (% of GDP) - NE.TRD.GNFS.ZS',\n",
       " 'Women Business and the Law Index Score (scale 1-100) - SG.LAW.INDX',\n",
       " 'Prevalence of undernourishment (%) - SN_ITK_DEFC - 2.1.1',\n",
       " 'Proportion of population below international poverty line (%) - SI_POV_DAY1 - 1.1.1',\n",
       " 'Proportion of population covered by at least a 2G mobile network (%) - IT_MOB_2GNTWK - 9.c.1',\n",
       " 'Proportion of population covered by at least a 3G mobile network (%) - IT_MOB_3GNTWK - 9.c.1',\n",
       " 'Proportion of population using basic drinking water services (%) - SP_ACS_BSRVH2O - 1.4.1',\n",
       " 'Unemployment rate, male (%) - SL_TLF_UEM - 8.5.2',\n",
       " 'Unemployment rate, women (%) - SL_TLF_UEM - 8.5.2',\n",
       " 'Annual production-based emissions of carbon dioxide (CO2), measured in million tonnes',\n",
       " 'Continent',\n",
       " 'Gini index (World Bank estimate) - SI.POV.GINI',\n",
       " 'Income Classification (World Bank Definition)',\n",
       " 'Individuals using the Internet (% of population) - IT.NET.USER.ZS',\n",
       " 'Life expectancy at birth, total (years) - SP.DYN.LE00.IN',\n",
       " 'Population, total - SP.POP.TOTL',\n",
       " 'Regime Type (RoW Measure Definition)',\n",
       " 'Rural population (% of total population) - SP.RUR.TOTL.ZS',\n",
       " 'Total natural resources rents (% of GDP) - NY.GDP.TOTL.RT.ZS',\n",
       " 'Urban population (% of total population) - SP.URB.TOTL.IN.ZS',\n",
       " 'World Regions (UN SDG Definition)']"
      ]
     },
     "execution_count": 4,
     "metadata": {},
     "output_type": "execute_result"
    }
   ],
   "source": [
    "main_df.columns"
   ]
  },
  {
   "cell_type": "code",
   "execution_count": 5,
   "metadata": {},
   "outputs": [],
   "source": [
    "merged = main_df.join(\n",
    "    regions_df,\n",
    "    left_on=\"Country Name\",\n",
    "    right_on=\"name\",\n",
    "    how=\"left\"\n",
    ")"
   ]
  },
  {
   "cell_type": "code",
   "execution_count": 6,
   "metadata": {},
   "outputs": [
    {
     "name": "stdout",
     "output_type": "stream",
     "text": [
      "23\n"
     ]
    },
    {
     "data": {
      "text/plain": [
       "['North Macedonia',\n",
       " 'St. Lucia',\n",
       " 'Bahamas, The',\n",
       " 'Guinea-Bissau',\n",
       " 'Lao PDR',\n",
       " 'Macao SAR, China',\n",
       " 'Slovak Republic',\n",
       " 'Iran, Islamic Rep.',\n",
       " 'Egypt, Arab Rep.',\n",
       " 'West Bank and Gaza',\n",
       " \"Korea, Dem. People's Rep.\",\n",
       " 'Gambia, The',\n",
       " 'Congo, Dem. Rep.',\n",
       " 'Hong Kong SAR, China',\n",
       " 'Syrian Arab Republic',\n",
       " 'Congo, Rep.',\n",
       " 'Kyrgyz Republic',\n",
       " 'Russian Federation',\n",
       " \"Cote d'Ivoire\",\n",
       " 'St. Vincent and the Grenadines',\n",
       " 'Korea, Rep.',\n",
       " 'Venezuela, RB',\n",
       " 'Bosnia and Herzegovina']"
      ]
     },
     "execution_count": 6,
     "metadata": {},
     "output_type": "execute_result"
    }
   ],
   "source": [
    "not_matched = merged.filter(\n",
    "    pl.col(\"sub-region\").is_null()\n",
    ")['Country Name'].unique().to_list()\n",
    "\n",
    "print(len(not_matched))\n",
    "not_matched"
   ]
  },
  {
   "cell_type": "markdown",
   "metadata": {},
   "source": [
    "### 23 countries could not be matched; let's investigate"
   ]
  },
  {
   "cell_type": "code",
   "execution_count": 7,
   "metadata": {},
   "outputs": [
    {
     "data": {
      "text/html": [
       "<div><style>\n",
       ".dataframe > thead > tr > th,\n",
       ".dataframe > tbody > tr > td {\n",
       "  text-align: right;\n",
       "}\n",
       "</style>\n",
       "<small>shape: (1, 11)</small><table border=\"1\" class=\"dataframe\"><thead><tr><th>name</th><th>alpha-2</th><th>alpha-3</th><th>country-code</th><th>iso_3166-2</th><th>region</th><th>sub-region</th><th>intermediate-region</th><th>region-code</th><th>sub-region-code</th><th>intermediate-region-code</th></tr><tr><td>str</td><td>str</td><td>str</td><td>str</td><td>str</td><td>str</td><td>str</td><td>str</td><td>str</td><td>str</td><td>str</td></tr></thead><tbody><tr><td>&quot;Kyrgyzstan&quot;</td><td>&quot;KG&quot;</td><td>&quot;KGZ&quot;</td><td>&quot;417&quot;</td><td>&quot;ISO 3166-2:KG&quot;</td><td>&quot;Asia&quot;</td><td>&quot;Central Asia&quot;</td><td>null</td><td>&quot;142&quot;</td><td>&quot;143&quot;</td><td>null</td></tr></tbody></table></div>"
      ],
      "text/plain": [
       "shape: (1, 11)\n",
       "┌────────────┬─────────┬─────────┬────────────┬───┬────────────┬───────────┬───────────┬───────────┐\n",
       "│ name       ┆ alpha-2 ┆ alpha-3 ┆ country-co ┆ … ┆ intermedia ┆ region-co ┆ sub-regio ┆ intermedi │\n",
       "│ ---        ┆ ---     ┆ ---     ┆ de         ┆   ┆ te-region  ┆ de        ┆ n-code    ┆ ate-regio │\n",
       "│ str        ┆ str     ┆ str     ┆ ---        ┆   ┆ ---        ┆ ---       ┆ ---       ┆ n-code    │\n",
       "│            ┆         ┆         ┆ str        ┆   ┆ str        ┆ str       ┆ str       ┆ ---       │\n",
       "│            ┆         ┆         ┆            ┆   ┆            ┆           ┆           ┆ str       │\n",
       "╞════════════╪═════════╪═════════╪════════════╪═══╪════════════╪═══════════╪═══════════╪═══════════╡\n",
       "│ Kyrgyzstan ┆ KG      ┆ KGZ     ┆ 417        ┆ … ┆ null       ┆ 142       ┆ 143       ┆ null      │\n",
       "└────────────┴─────────┴─────────┴────────────┴───┴────────────┴───────────┴───────────┴───────────┘"
      ]
     },
     "execution_count": 7,
     "metadata": {},
     "output_type": "execute_result"
    }
   ],
   "source": [
    "regions_df.filter(\n",
    "    pl.col('name').str.contains('Kyrgyz')\n",
    ")"
   ]
  },
  {
   "cell_type": "code",
   "execution_count": 8,
   "metadata": {},
   "outputs": [
    {
     "data": {
      "text/plain": [
       "[]"
      ]
     },
     "execution_count": 8,
     "metadata": {},
     "output_type": "execute_result"
    }
   ],
   "source": [
    "main_df.join(\n",
    "    regions_df,\n",
    "    left_on=\"Country Code\",\n",
    "    right_on=\"alpha-3\",\n",
    "    how=\"left\"\n",
    ").filter(\n",
    "    pl.col(\"sub-region\").is_null()\n",
    ")['Country Name'].unique().to_list()"
   ]
  },
  {
   "cell_type": "markdown",
   "metadata": {},
   "source": [
    "### Use country code and alpha-3 to merge instead"
   ]
  },
  {
   "cell_type": "code",
   "execution_count": 9,
   "metadata": {},
   "outputs": [],
   "source": [
    "merged = main_df.join(\n",
    "    regions_df,\n",
    "    left_on=\"Country Code\",\n",
    "    right_on=\"alpha-3\",\n",
    "    how=\"left\"\n",
    ")"
   ]
  },
  {
   "cell_type": "code",
   "execution_count": 10,
   "metadata": {},
   "outputs": [
    {
     "data": {
      "text/html": [
       "<div><style>\n",
       ".dataframe > thead > tr > th,\n",
       ".dataframe > tbody > tr > td {\n",
       "  text-align: right;\n",
       "}\n",
       "</style>\n",
       "<small>shape: (5, 64)</small><table border=\"1\" class=\"dataframe\"><thead><tr><th>Country Name</th><th>Country Code</th><th>Year</th><th>Access to electricity (% of population) - EG.ELC.ACCS.ZS</th><th>Adjusted net national income per capita (annual % growth) - NY.ADJ.NNTY.PC.KD.ZG</th><th>Adjusted net savings, excluding particulate emission damage (% of GNI) - NY.ADJ.SVNX.GN.ZS</th><th>Adjusted savings: carbon dioxide damage (% of GNI) - NY.ADJ.DCO2.GN.ZS</th><th>Adjusted savings: natural resources depletion (% of GNI) - NY.ADJ.DRES.GN.ZS</th><th>Adjusted savings: net forest depletion (% of GNI) - NY.ADJ.DFOR.GN.ZS</th><th>Adjusted savings: particulate emission damage (% of GNI) - NY.ADJ.DPEM.GN.ZS</th><th>Automated teller machines (ATMs) (per 100,000 adults) - FB.ATM.TOTL.P5</th><th>Broad money (% of GDP) - FM.LBL.BMNY.GD.ZS</th><th>Children out of school (% of primary school age) - SE.PRM.UNER.ZS</th><th>Compulsory education, duration (years) - SE.COM.DURS</th><th>Cost of business start-up procedures, female (% of GNI per capita) - IC.REG.COST.PC.FE.ZS</th><th>Cost of business start-up procedures, male (% of GNI per capita) - IC.REG.COST.PC.MA.ZS</th><th>Exports of goods and services (% of GDP) - NE.EXP.GNFS.ZS</th><th>Final consumption expenditure (% of GDP) - NE.CON.TOTL.ZS</th><th>GDP (current US$) - NY.GDP.MKTP.CD</th><th>GDP per capita (current US$) - NY.GDP.PCAP.CD</th><th>General government final consumption expenditure (% of GDP) - NE.CON.GOVT.ZS</th><th>Gross national expenditure (% of GDP) - NE.DAB.TOTL.ZS</th><th>Gross savings (% of GDP) - NY.GNS.ICTR.ZS</th><th>Imports of goods and services (% of GDP) - NE.IMP.GNFS.ZS</th><th>Inflation, consumer prices (annual %) - FP.CPI.TOTL.ZG</th><th>Primary completion rate, total (% of relevant age group) - SE.PRM.CMPT.ZS</th><th>Proportion of seats held by women in national parliaments (%) - SG.GEN.PARL.ZS</th><th>Pupil-teacher ratio, primary - SE.PRM.ENRL.TC.ZS</th><th>Renewable electricity output (% of total electricity output) - EG.ELC.RNEW.ZS</th><th>Renewable energy consumption (% of total final energy consumption) - EG.FEC.RNEW.ZS</th><th>School enrollment, preprimary (% gross) - SE.PRE.ENRR</th><th>School enrollment, primary (% gross) - SE.PRM.ENRR</th><th>School enrollment, secondary (% gross) - SE.SEC.ENRR</th><th>Trade (% of GDP) - NE.TRD.GNFS.ZS</th><th>Women Business and the Law Index Score (scale 1-100) - SG.LAW.INDX</th><th>Prevalence of undernourishment (%) - SN_ITK_DEFC - 2.1.1</th><th>Proportion of population below international poverty line (%) - SI_POV_DAY1 - 1.1.1</th><th>Proportion of population covered by at least a 2G mobile network (%) - IT_MOB_2GNTWK - 9.c.1</th><th>Proportion of population covered by at least a 3G mobile network (%) - IT_MOB_3GNTWK - 9.c.1</th><th>Proportion of population using basic drinking water services (%) - SP_ACS_BSRVH2O - 1.4.1</th><th>Unemployment rate, male (%) - SL_TLF_UEM - 8.5.2</th><th>Unemployment rate, women (%) - SL_TLF_UEM - 8.5.2</th><th>Annual production-based emissions of carbon dioxide (CO2), measured in million tonnes</th><th>Continent</th><th>Gini index (World Bank estimate) - SI.POV.GINI</th><th>Income Classification (World Bank Definition)</th><th>Individuals using the Internet (% of population) - IT.NET.USER.ZS</th><th>Life expectancy at birth, total (years) - SP.DYN.LE00.IN</th><th>Population, total - SP.POP.TOTL</th><th>Regime Type (RoW Measure Definition)</th><th>Rural population (% of total population) - SP.RUR.TOTL.ZS</th><th>Total natural resources rents (% of GDP) - NY.GDP.TOTL.RT.ZS</th><th>Urban population (% of total population) - SP.URB.TOTL.IN.ZS</th><th>World Regions (UN SDG Definition)</th><th>name</th><th>alpha-2</th><th>country-code</th><th>iso_3166-2</th><th>region</th><th>sub-region</th><th>intermediate-region</th><th>region-code</th><th>sub-region-code</th><th>intermediate-region-code</th></tr><tr><td>str</td><td>str</td><td>str</td><td>str</td><td>str</td><td>str</td><td>str</td><td>str</td><td>str</td><td>str</td><td>str</td><td>str</td><td>str</td><td>str</td><td>str</td><td>str</td><td>str</td><td>str</td><td>str</td><td>str</td><td>str</td><td>str</td><td>str</td><td>str</td><td>str</td><td>str</td><td>str</td><td>str</td><td>str</td><td>str</td><td>str</td><td>str</td><td>str</td><td>str</td><td>str</td><td>str</td><td>str</td><td>str</td><td>str</td><td>str</td><td>str</td><td>str</td><td>str</td><td>str</td><td>str</td><td>str</td><td>str</td><td>str</td><td>str</td><td>str</td><td>str</td><td>str</td><td>str</td><td>str</td><td>str</td><td>str</td><td>str</td><td>str</td><td>str</td><td>str</td><td>str</td><td>str</td><td>str</td><td>str</td></tr></thead><tbody><tr><td>&quot;Albania&quot;</td><td>&quot;ALB&quot;</td><td>&quot;2000&quot;</td><td>&quot;100&quot;</td><td>null</td><td>&quot;16.02109255&quot;</td><td>&quot;1.563257993&quot;</td><td>&quot;0.292709162&quot;</td><td>&quot;0&quot;</td><td>&quot;0.455814504&quot;</td><td>null</td><td>&quot;65.46317162&quot;</td><td>&quot;4.616650105&quot;</td><td>&quot;8&quot;</td><td>null</td><td>null</td><td>&quot;20.11536376&quot;</td><td>&quot;92.42716152&quot;</td><td>&quot;3480355189&quot;</td><td>&quot;1126.683318&quot;</td><td>&quot;9.69235792&quot;</td><td>&quot;123.2234207&quot;</td><td>&quot;25.94104928&quot;</td><td>&quot;43.33887425&quot;</td><td>&quot;0.050018136&quot;</td><td>&quot;96.58268738&quot;</td><td>&quot;5.161290323&quot;</td><td>&quot;22.56784&quot;</td><td>&quot;96.14901632&quot;</td><td>&quot;41.44499969&quot;</td><td>&quot;44.13253021&quot;</td><td>&quot;104.1961899&quot;</td><td>&quot;71.07807922&quot;</td><td>&quot;63.45423801&quot;</td><td>&quot;80&quot;</td><td>null</td><td>null</td><td>null</td><td>null</td><td>null</td><td>null</td><td>null</td><td>&quot;3.004&quot;</td><td>&quot;Europe&quot;</td><td>null</td><td>&quot;Lower-middle i…</td><td>null</td><td>null</td><td>null</td><td>&quot;Electoral Auto…</td><td>&quot;58.259&quot;</td><td>null</td><td>null</td><td>&quot;Europe and Nor…</td><td>&quot;Albania&quot;</td><td>&quot;AL&quot;</td><td>&quot;8&quot;</td><td>&quot;ISO 3166-2:AL&quot;</td><td>&quot;Europe&quot;</td><td>&quot;Southern Europ…</td><td>null</td><td>&quot;150&quot;</td><td>&quot;39&quot;</td><td>null</td></tr><tr><td>&quot;Qatar&quot;</td><td>&quot;QAT&quot;</td><td>&quot;2000&quot;</td><td>&quot;100&quot;</td><td>null</td><td>null</td><td>&quot;3.941256351&quot;</td><td>&quot;33.47257394&quot;</td><td>&quot;0.000196915&quot;</td><td>&quot;0.161163702&quot;</td><td>null</td><td>&quot;44.4824119&quot;</td><td>&quot;3.738029957&quot;</td><td>null</td><td>null</td><td>null</td><td>&quot;67.2833586&quot;</td><td>&quot;34.89465706&quot;</td><td>&quot;17759890110&quot;</td><td>&quot;29976.16763&quot;</td><td>&quot;19.66865699&quot;</td><td>&quot;55.04594252&quot;</td><td>null</td><td>&quot;22.32930112&quot;</td><td>&quot;1.650335224&quot;</td><td>null</td><td>null</td><td>null</td><td>&quot;0&quot;</td><td>&quot;0&quot;</td><td>&quot;28.37129974&quot;</td><td>&quot;105.0000916&quot;</td><td>&quot;91.37918091&quot;</td><td>&quot;89.61265972&quot;</td><td>&quot;29.375&quot;</td><td>null</td><td>null</td><td>&quot;95&quot;</td><td>null</td><td>null</td><td>null</td><td>null</td><td>&quot;34.566&quot;</td><td>&quot;Asia&quot;</td><td>null</td><td>&quot;High income&quot;</td><td>null</td><td>null</td><td>null</td><td>&quot;Closed Autocra…</td><td>&quot;3.688999999999…</td><td>null</td><td>null</td><td>&quot;Northern Afric…</td><td>&quot;Qatar&quot;</td><td>&quot;QA&quot;</td><td>&quot;634&quot;</td><td>&quot;ISO 3166-2:QA&quot;</td><td>&quot;Asia&quot;</td><td>&quot;Western Asia&quot;</td><td>null</td><td>&quot;142&quot;</td><td>&quot;145&quot;</td><td>null</td></tr><tr><td>&quot;Norway&quot;</td><td>&quot;NOR&quot;</td><td>&quot;2000&quot;</td><td>&quot;100&quot;</td><td>&quot;7.087976427&quot;</td><td>&quot;17.13390555&quot;</td><td>&quot;0.435731147&quot;</td><td>&quot;10.12417311&quot;</td><td>&quot;0&quot;</td><td>&quot;0.044415752&quot;</td><td>null</td><td>&quot;48.04678352&quot;</td><td>&quot;0.135480002&quot;</td><td>&quot;10&quot;</td><td>null</td><td>null</td><td>&quot;45.73235418&quot;</td><td>&quot;61.34786898&quot;</td><td>&quot;171247000000&quot;</td><td>&quot;38131.46061&quot;</td><td>&quot;18.88669878&quot;</td><td>&quot;83.18683353&quot;</td><td>&quot;36.55104315&quot;</td><td>&quot;28.91925405&quot;</td><td>&quot;3.085506091&quot;</td><td>&quot;97.92279053&quot;</td><td>&quot;36.36363636&quot;</td><td>null</td><td>&quot;99.71510971&quot;</td><td>&quot;60.18460083&quot;</td><td>&quot;76.41101837&quot;</td><td>&quot;100.8506622&quot;</td><td>&quot;116.0636368&quot;</td><td>&quot;74.65160822&quot;</td><td>&quot;88.125&quot;</td><td>null</td><td>&quot;0.2&quot;</td><td>&quot;96&quot;</td><td>null</td><td>&quot;100&quot;</td><td>&quot;3.6&quot;</td><td>&quot;3.3&quot;</td><td>&quot;42.519&quot;</td><td>&quot;Europe&quot;</td><td>&quot;27.4&quot;</td><td>&quot;High income&quot;</td><td>null</td><td>null</td><td>null</td><td>&quot;Liberal Democr…</td><td>&quot;23.98&quot;</td><td>null</td><td>null</td><td>&quot;Europe and Nor…</td><td>&quot;Norway&quot;</td><td>&quot;NO&quot;</td><td>&quot;578&quot;</td><td>&quot;ISO 3166-2:NO&quot;</td><td>&quot;Europe&quot;</td><td>&quot;Northern Europ…</td><td>null</td><td>&quot;150&quot;</td><td>&quot;154&quot;</td><td>null</td></tr><tr><td>&quot;Haiti&quot;</td><td>&quot;HTI&quot;</td><td>&quot;2000&quot;</td><td>&quot;33.7&quot;</td><td>&quot;55.60546755&quot;</td><td>&quot;7.862471351&quot;</td><td>&quot;0.362098027&quot;</td><td>&quot;0.313008706&quot;</td><td>&quot;0.313008706&quot;</td><td>&quot;3.048514997&quot;</td><td>null</td><td>&quot;21.57186777&quot;</td><td>null</td><td>&quot;6&quot;</td><td>null</td><td>null</td><td>&quot;6.717484277&quot;</td><td>&quot;103.2801333&quot;</td><td>&quot;6868666120&quot;</td><td>&quot;811.5343577&quot;</td><td>&quot;6.926872971&quot;</td><td>&quot;111.5357815&quot;</td><td>&quot;7.972750941&quot;</td><td>&quot;18.32341614&quot;</td><td>&quot;9.333221976&quot;</td><td>null</td><td>null</td><td>null</td><td>&quot;51.73674589&quot;</td><td>&quot;80.84500122&quot;</td><td>null</td><td>null</td><td>null</td><td>&quot;25.04090041&quot;</td><td>&quot;61.25&quot;</td><td>null</td><td>null</td><td>null</td><td>null</td><td>null</td><td>null</td><td>null</td><td>&quot;1.341&quot;</td><td>&quot;North America&quot;</td><td>null</td><td>&quot;Low income&quot;</td><td>null</td><td>null</td><td>null</td><td>&quot;Electoral Auto…</td><td>&quot;64.4&quot;</td><td>null</td><td>null</td><td>&quot;Latin America …</td><td>&quot;Haiti&quot;</td><td>&quot;HT&quot;</td><td>&quot;332&quot;</td><td>&quot;ISO 3166-2:HT&quot;</td><td>&quot;Americas&quot;</td><td>&quot;Latin America …</td><td>&quot;Caribbean&quot;</td><td>&quot;19&quot;</td><td>&quot;419&quot;</td><td>&quot;29&quot;</td></tr><tr><td>&quot;Oman&quot;</td><td>&quot;OMN&quot;</td><td>&quot;2000&quot;</td><td>&quot;100&quot;</td><td>&quot;-0.871056959&quot;</td><td>&quot;-11.22595394&quot;</td><td>&quot;2.156970553&quot;</td><td>&quot;35.95166823&quot;</td><td>&quot;0.000943953&quot;</td><td>&quot;0.308172231&quot;</td><td>null</td><td>&quot;32.05139636&quot;</td><td>&quot;16.02997017&quot;</td><td>null</td><td>null</td><td>null</td><td>&quot;53.69206365&quot;</td><td>&quot;56.8463735&quot;</td><td>&quot;19507452508&quot;</td><td>&quot;8601.271932&quot;</td><td>&quot;21.48272921&quot;</td><td>&quot;72.21737017&quot;</td><td>&quot;31.42143731&quot;</td><td>&quot;25.909434&quot;</td><td>null</td><td>&quot;82.94512177&quot;</td><td>null</td><td>&quot;25.08144&quot;</td><td>&quot;0&quot;</td><td>&quot;0&quot;</td><td>null</td><td>&quot;92.48258972&quot;</td><td>&quot;78.23267365&quot;</td><td>&quot;79.60149766&quot;</td><td>&quot;29.375&quot;</td><td>null</td><td>null</td><td>null</td><td>null</td><td>null</td><td>null</td><td>null</td><td>&quot;21.535&quot;</td><td>&quot;Asia&quot;</td><td>null</td><td>&quot;Upper-middle i…</td><td>null</td><td>null</td><td>null</td><td>&quot;Closed Autocra…</td><td>&quot;28.431&quot;</td><td>null</td><td>null</td><td>&quot;Northern Afric…</td><td>&quot;Oman&quot;</td><td>&quot;OM&quot;</td><td>&quot;512&quot;</td><td>&quot;ISO 3166-2:OM&quot;</td><td>&quot;Asia&quot;</td><td>&quot;Western Asia&quot;</td><td>null</td><td>&quot;142&quot;</td><td>&quot;145&quot;</td><td>null</td></tr></tbody></table></div>"
      ],
      "text/plain": [
       "shape: (5, 64)\n",
       "┌────────────┬────────────┬──────┬────────────┬───┬────────────┬───────────┬───────────┬───────────┐\n",
       "│ Country    ┆ Country    ┆ Year ┆ Access to  ┆ … ┆ intermedia ┆ region-co ┆ sub-regio ┆ intermedi │\n",
       "│ Name       ┆ Code       ┆ ---  ┆ electricit ┆   ┆ te-region  ┆ de        ┆ n-code    ┆ ate-regio │\n",
       "│ ---        ┆ ---        ┆ str  ┆ y (% of    ┆   ┆ ---        ┆ ---       ┆ ---       ┆ n-code    │\n",
       "│ str        ┆ str        ┆      ┆ popu…      ┆   ┆ str        ┆ str       ┆ str       ┆ ---       │\n",
       "│            ┆            ┆      ┆ ---        ┆   ┆            ┆           ┆           ┆ str       │\n",
       "│            ┆            ┆      ┆ str        ┆   ┆            ┆           ┆           ┆           │\n",
       "╞════════════╪════════════╪══════╪════════════╪═══╪════════════╪═══════════╪═══════════╪═══════════╡\n",
       "│ Albania    ┆ ALB        ┆ 2000 ┆ 100        ┆ … ┆ null       ┆ 150       ┆ 39        ┆ null      │\n",
       "│ Qatar      ┆ QAT        ┆ 2000 ┆ 100        ┆ … ┆ null       ┆ 142       ┆ 145       ┆ null      │\n",
       "│ Norway     ┆ NOR        ┆ 2000 ┆ 100        ┆ … ┆ null       ┆ 150       ┆ 154       ┆ null      │\n",
       "│ Haiti      ┆ HTI        ┆ 2000 ┆ 33.7       ┆ … ┆ Caribbean  ┆ 19        ┆ 419       ┆ 29        │\n",
       "│ Oman       ┆ OMN        ┆ 2000 ┆ 100        ┆ … ┆ null       ┆ 142       ┆ 145       ┆ null      │\n",
       "└────────────┴────────────┴──────┴────────────┴───┴────────────┴───────────┴───────────┴───────────┘"
      ]
     },
     "execution_count": 10,
     "metadata": {},
     "output_type": "execute_result"
    }
   ],
   "source": [
    "merged.unique(subset='Country Name').sample(5)"
   ]
  },
  {
   "cell_type": "code",
   "execution_count": 11,
   "metadata": {},
   "outputs": [],
   "source": [
    "merged.write_csv(\"../data/sustainability_w_regions.csv\")"
   ]
  }
 ],
 "metadata": {
  "kernelspec": {
   "display_name": "fcs",
   "language": "python",
   "name": "python3"
  },
  "language_info": {
   "codemirror_mode": {
    "name": "ipython",
    "version": 3
   },
   "file_extension": ".py",
   "mimetype": "text/x-python",
   "name": "python",
   "nbconvert_exporter": "python",
   "pygments_lexer": "ipython3",
   "version": "3.11.4"
  }
 },
 "nbformat": 4,
 "nbformat_minor": 2
}
