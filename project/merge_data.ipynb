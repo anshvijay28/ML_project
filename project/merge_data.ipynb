{
 "cells": [
  {
   "cell_type": "code",
   "execution_count": 1,
   "metadata": {},
   "outputs": [],
   "source": [
    "import polars as pl\n"
   ]
  },
  {
   "cell_type": "code",
   "execution_count": 2,
   "metadata": {},
   "outputs": [],
   "source": [
    "regions_df = pl.read_csv(\"../data/continents2.csv\", infer_schema_length=0)\n",
    "main_df = pl.read_csv(\"../data/WorldSustainabilityDataset.csv\", infer_schema_length=0)"
   ]
  },
  {
   "cell_type": "code",
   "execution_count": 3,
   "metadata": {},
   "outputs": [
    {
     "data": {
      "text/plain": [
       "['name',\n",
       " 'alpha-2',\n",
       " 'alpha-3',\n",
       " 'country-code',\n",
       " 'iso_3166-2',\n",
       " 'region',\n",
       " 'sub-region',\n",
       " 'intermediate-region',\n",
       " 'region-code',\n",
       " 'sub-region-code',\n",
       " 'intermediate-region-code']"
      ]
     },
     "execution_count": 3,
     "metadata": {},
     "output_type": "execute_result"
    }
   ],
   "source": [
    "regions_df.columns"
   ]
  },
  {
   "cell_type": "code",
   "execution_count": 4,
   "metadata": {},
   "outputs": [
    {
     "data": {
      "text/plain": [
       "['Country Name',\n",
       " 'Country Code',\n",
       " 'Year',\n",
       " 'Access to electricity (% of population) - EG.ELC.ACCS.ZS',\n",
       " 'Adjusted net national income per capita (annual % growth) - NY.ADJ.NNTY.PC.KD.ZG',\n",
       " 'Adjusted net savings, excluding particulate emission damage (% of GNI) - NY.ADJ.SVNX.GN.ZS',\n",
       " 'Adjusted savings: carbon dioxide damage (% of GNI) - NY.ADJ.DCO2.GN.ZS',\n",
       " 'Adjusted savings: natural resources depletion (% of GNI) - NY.ADJ.DRES.GN.ZS',\n",
       " 'Adjusted savings: net forest depletion (% of GNI) - NY.ADJ.DFOR.GN.ZS',\n",
       " 'Adjusted savings: particulate emission damage (% of GNI) - NY.ADJ.DPEM.GN.ZS',\n",
       " 'Automated teller machines (ATMs) (per 100,000 adults) - FB.ATM.TOTL.P5',\n",
       " 'Broad money (% of GDP) - FM.LBL.BMNY.GD.ZS',\n",
       " 'Children out of school (% of primary school age) - SE.PRM.UNER.ZS',\n",
       " 'Compulsory education, duration (years) - SE.COM.DURS',\n",
       " 'Cost of business start-up procedures, female (% of GNI per capita) - IC.REG.COST.PC.FE.ZS',\n",
       " 'Cost of business start-up procedures, male (% of GNI per capita) - IC.REG.COST.PC.MA.ZS',\n",
       " 'Exports of goods and services (% of GDP) - NE.EXP.GNFS.ZS',\n",
       " 'Final consumption expenditure (% of GDP) - NE.CON.TOTL.ZS',\n",
       " 'GDP (current US$) - NY.GDP.MKTP.CD',\n",
       " 'GDP per capita (current US$) - NY.GDP.PCAP.CD',\n",
       " 'General government final consumption expenditure (% of GDP) - NE.CON.GOVT.ZS',\n",
       " 'Gross national expenditure (% of GDP) - NE.DAB.TOTL.ZS',\n",
       " 'Gross savings (% of GDP) - NY.GNS.ICTR.ZS',\n",
       " 'Imports of goods and services (% of GDP) - NE.IMP.GNFS.ZS',\n",
       " 'Inflation, consumer prices (annual %) - FP.CPI.TOTL.ZG',\n",
       " 'Primary completion rate, total (% of relevant age group) - SE.PRM.CMPT.ZS',\n",
       " 'Proportion of seats held by women in national parliaments (%) - SG.GEN.PARL.ZS',\n",
       " 'Pupil-teacher ratio, primary - SE.PRM.ENRL.TC.ZS',\n",
       " 'Renewable electricity output (% of total electricity output) - EG.ELC.RNEW.ZS',\n",
       " 'Renewable energy consumption (% of total final energy consumption) - EG.FEC.RNEW.ZS',\n",
       " 'School enrollment, preprimary (% gross) - SE.PRE.ENRR',\n",
       " 'School enrollment, primary (% gross) - SE.PRM.ENRR',\n",
       " 'School enrollment, secondary (% gross) - SE.SEC.ENRR',\n",
       " 'Trade (% of GDP) - NE.TRD.GNFS.ZS',\n",
       " 'Women Business and the Law Index Score (scale 1-100) - SG.LAW.INDX',\n",
       " 'Prevalence of undernourishment (%) - SN_ITK_DEFC - 2.1.1',\n",
       " 'Proportion of population below international poverty line (%) - SI_POV_DAY1 - 1.1.1',\n",
       " 'Proportion of population covered by at least a 2G mobile network (%) - IT_MOB_2GNTWK - 9.c.1',\n",
       " 'Proportion of population covered by at least a 3G mobile network (%) - IT_MOB_3GNTWK - 9.c.1',\n",
       " 'Proportion of population using basic drinking water services (%) - SP_ACS_BSRVH2O - 1.4.1',\n",
       " 'Unemployment rate, male (%) - SL_TLF_UEM - 8.5.2',\n",
       " 'Unemployment rate, women (%) - SL_TLF_UEM - 8.5.2',\n",
       " 'Annual production-based emissions of carbon dioxide (CO2), measured in million tonnes',\n",
       " 'Continent',\n",
       " 'Gini index (World Bank estimate) - SI.POV.GINI',\n",
       " 'Income Classification (World Bank Definition)',\n",
       " 'Individuals using the Internet (% of population) - IT.NET.USER.ZS',\n",
       " 'Life expectancy at birth, total (years) - SP.DYN.LE00.IN',\n",
       " 'Population, total - SP.POP.TOTL',\n",
       " 'Regime Type (RoW Measure Definition)',\n",
       " 'Rural population (% of total population) - SP.RUR.TOTL.ZS',\n",
       " 'Total natural resources rents (% of GDP) - NY.GDP.TOTL.RT.ZS',\n",
       " 'Urban population (% of total population) - SP.URB.TOTL.IN.ZS',\n",
       " 'World Regions (UN SDG Definition)']"
      ]
     },
     "execution_count": 4,
     "metadata": {},
     "output_type": "execute_result"
    }
   ],
   "source": [
    "main_df.columns"
   ]
  },
  {
   "cell_type": "code",
   "execution_count": 6,
   "metadata": {},
   "outputs": [],
   "source": [
    "merged = main_df.join(\n",
    "    regions_df,\n",
    "    left_on=\"Country Name\",\n",
    "    right_on=\"name\",\n",
    "    how=\"left\"\n",
    ")"
   ]
  },
  {
   "cell_type": "code",
   "execution_count": 7,
   "metadata": {},
   "outputs": [
    {
     "name": "stdout",
     "output_type": "stream",
     "text": [
      "23\n"
     ]
    },
    {
     "data": {
      "text/plain": [
       "['Kyrgyz Republic',\n",
       " 'Egypt, Arab Rep.',\n",
       " 'Macao SAR, China',\n",
       " 'Syrian Arab Republic',\n",
       " 'Russian Federation',\n",
       " 'Bosnia and Herzegovina',\n",
       " 'Hong Kong SAR, China',\n",
       " 'Slovak Republic',\n",
       " \"Cote d'Ivoire\",\n",
       " 'Guinea-Bissau',\n",
       " 'St. Vincent and the Grenadines',\n",
       " 'Bahamas, The',\n",
       " 'Lao PDR',\n",
       " 'Iran, Islamic Rep.',\n",
       " 'West Bank and Gaza',\n",
       " 'North Macedonia',\n",
       " 'Korea, Rep.',\n",
       " 'Congo, Dem. Rep.',\n",
       " \"Korea, Dem. People's Rep.\",\n",
       " 'St. Lucia',\n",
       " 'Venezuela, RB',\n",
       " 'Gambia, The',\n",
       " 'Congo, Rep.']"
      ]
     },
     "execution_count": 7,
     "metadata": {},
     "output_type": "execute_result"
    }
   ],
   "source": [
    "not_matched = merged.filter(\n",
    "    pl.col(\"sub-region\").is_null()\n",
    ")['Country Name'].unique().to_list()\n",
    "\n",
    "print(len(not_matched))\n",
    "not_matched"
   ]
  },
  {
   "cell_type": "markdown",
   "metadata": {},
   "source": [
    "### 23 countries could not be matched; let's investigate"
   ]
  },
  {
   "cell_type": "code",
   "execution_count": 8,
   "metadata": {},
   "outputs": [
    {
     "data": {
      "text/html": [
       "<div><style>\n",
       ".dataframe > thead > tr > th,\n",
       ".dataframe > tbody > tr > td {\n",
       "  text-align: right;\n",
       "  white-space: pre-wrap;\n",
       "}\n",
       "</style>\n",
       "<small>shape: (1, 11)</small><table border=\"1\" class=\"dataframe\"><thead><tr><th>name</th><th>alpha-2</th><th>alpha-3</th><th>country-code</th><th>iso_3166-2</th><th>region</th><th>sub-region</th><th>intermediate-region</th><th>region-code</th><th>sub-region-code</th><th>intermediate-region-code</th></tr><tr><td>str</td><td>str</td><td>str</td><td>str</td><td>str</td><td>str</td><td>str</td><td>str</td><td>str</td><td>str</td><td>str</td></tr></thead><tbody><tr><td>&quot;Kyrgyzstan&quot;</td><td>&quot;KG&quot;</td><td>&quot;KGZ&quot;</td><td>&quot;417&quot;</td><td>&quot;ISO 3166-2:KG&quot;</td><td>&quot;Asia&quot;</td><td>&quot;Central Asia&quot;</td><td>null</td><td>&quot;142&quot;</td><td>&quot;143&quot;</td><td>null</td></tr></tbody></table></div>"
      ],
      "text/plain": [
       "shape: (1, 11)\n",
       "┌────────────┬─────────┬─────────┬────────────┬───┬────────────┬───────────┬───────────┬───────────┐\n",
       "│ name       ┆ alpha-2 ┆ alpha-3 ┆ country-co ┆ … ┆ intermedia ┆ region-co ┆ sub-regio ┆ intermedi │\n",
       "│ ---        ┆ ---     ┆ ---     ┆ de         ┆   ┆ te-region  ┆ de        ┆ n-code    ┆ ate-regio │\n",
       "│ str        ┆ str     ┆ str     ┆ ---        ┆   ┆ ---        ┆ ---       ┆ ---       ┆ n-code    │\n",
       "│            ┆         ┆         ┆ str        ┆   ┆ str        ┆ str       ┆ str       ┆ ---       │\n",
       "│            ┆         ┆         ┆            ┆   ┆            ┆           ┆           ┆ str       │\n",
       "╞════════════╪═════════╪═════════╪════════════╪═══╪════════════╪═══════════╪═══════════╪═══════════╡\n",
       "│ Kyrgyzstan ┆ KG      ┆ KGZ     ┆ 417        ┆ … ┆ null       ┆ 142       ┆ 143       ┆ null      │\n",
       "└────────────┴─────────┴─────────┴────────────┴───┴────────────┴───────────┴───────────┴───────────┘"
      ]
     },
     "execution_count": 8,
     "metadata": {},
     "output_type": "execute_result"
    }
   ],
   "source": [
    "regions_df.filter(\n",
    "    pl.col('name').str.contains('Kyrgyz')\n",
    ")"
   ]
  },
  {
   "cell_type": "code",
   "execution_count": 9,
   "metadata": {},
   "outputs": [
    {
     "data": {
      "text/plain": [
       "[]"
      ]
     },
     "execution_count": 9,
     "metadata": {},
     "output_type": "execute_result"
    }
   ],
   "source": [
    "main_df.join(\n",
    "    regions_df,\n",
    "    left_on=\"Country Code\",\n",
    "    right_on=\"alpha-3\",\n",
    "    how=\"left\"\n",
    ").filter(\n",
    "    pl.col(\"sub-region\").is_null()\n",
    ")['Country Name'].unique().to_list()"
   ]
  },
  {
   "cell_type": "markdown",
   "metadata": {},
   "source": [
    "### Use country code and alpha-3 to merge instead"
   ]
  },
  {
   "cell_type": "code",
   "execution_count": 10,
   "metadata": {},
   "outputs": [],
   "source": [
    "merged = main_df.join(\n",
    "    regions_df,\n",
    "    left_on=\"Country Code\",\n",
    "    right_on=\"alpha-3\",\n",
    "    how=\"left\"\n",
    ")"
   ]
  },
  {
   "cell_type": "code",
   "execution_count": 11,
   "metadata": {},
   "outputs": [
    {
     "data": {
      "text/html": [
       "<div><style>\n",
       ".dataframe > thead > tr > th,\n",
       ".dataframe > tbody > tr > td {\n",
       "  text-align: right;\n",
       "  white-space: pre-wrap;\n",
       "}\n",
       "</style>\n",
       "<small>shape: (5, 64)</small><table border=\"1\" class=\"dataframe\"><thead><tr><th>Country Name</th><th>Country Code</th><th>Year</th><th>Access to electricity (% of population) - EG.ELC.ACCS.ZS</th><th>Adjusted net national income per capita (annual % growth) - NY.ADJ.NNTY.PC.KD.ZG</th><th>Adjusted net savings, excluding particulate emission damage (% of GNI) - NY.ADJ.SVNX.GN.ZS</th><th>Adjusted savings: carbon dioxide damage (% of GNI) - NY.ADJ.DCO2.GN.ZS</th><th>Adjusted savings: natural resources depletion (% of GNI) - NY.ADJ.DRES.GN.ZS</th><th>Adjusted savings: net forest depletion (% of GNI) - NY.ADJ.DFOR.GN.ZS</th><th>Adjusted savings: particulate emission damage (% of GNI) - NY.ADJ.DPEM.GN.ZS</th><th>Automated teller machines (ATMs) (per 100,000 adults) - FB.ATM.TOTL.P5</th><th>Broad money (% of GDP) - FM.LBL.BMNY.GD.ZS</th><th>Children out of school (% of primary school age) - SE.PRM.UNER.ZS</th><th>Compulsory education, duration (years) - SE.COM.DURS</th><th>Cost of business start-up procedures, female (% of GNI per capita) - IC.REG.COST.PC.FE.ZS</th><th>Cost of business start-up procedures, male (% of GNI per capita) - IC.REG.COST.PC.MA.ZS</th><th>Exports of goods and services (% of GDP) - NE.EXP.GNFS.ZS</th><th>Final consumption expenditure (% of GDP) - NE.CON.TOTL.ZS</th><th>GDP (current US$) - NY.GDP.MKTP.CD</th><th>GDP per capita (current US$) - NY.GDP.PCAP.CD</th><th>General government final consumption expenditure (% of GDP) - NE.CON.GOVT.ZS</th><th>Gross national expenditure (% of GDP) - NE.DAB.TOTL.ZS</th><th>Gross savings (% of GDP) - NY.GNS.ICTR.ZS</th><th>Imports of goods and services (% of GDP) - NE.IMP.GNFS.ZS</th><th>Inflation, consumer prices (annual %) - FP.CPI.TOTL.ZG</th><th>Primary completion rate, total (% of relevant age group) - SE.PRM.CMPT.ZS</th><th>Proportion of seats held by women in national parliaments (%) - SG.GEN.PARL.ZS</th><th>Pupil-teacher ratio, primary - SE.PRM.ENRL.TC.ZS</th><th>Renewable electricity output (% of total electricity output) - EG.ELC.RNEW.ZS</th><th>Renewable energy consumption (% of total final energy consumption) - EG.FEC.RNEW.ZS</th><th>School enrollment, preprimary (% gross) - SE.PRE.ENRR</th><th>School enrollment, primary (% gross) - SE.PRM.ENRR</th><th>School enrollment, secondary (% gross) - SE.SEC.ENRR</th><th>Trade (% of GDP) - NE.TRD.GNFS.ZS</th><th>Women Business and the Law Index Score (scale 1-100) - SG.LAW.INDX</th><th>Prevalence of undernourishment (%) - SN_ITK_DEFC - 2.1.1</th><th>Proportion of population below international poverty line (%) - SI_POV_DAY1 - 1.1.1</th><th>Proportion of population covered by at least a 2G mobile network (%) - IT_MOB_2GNTWK - 9.c.1</th><th>Proportion of population covered by at least a 3G mobile network (%) - IT_MOB_3GNTWK - 9.c.1</th><th>Proportion of population using basic drinking water services (%) - SP_ACS_BSRVH2O - 1.4.1</th><th>Unemployment rate, male (%) - SL_TLF_UEM - 8.5.2</th><th>Unemployment rate, women (%) - SL_TLF_UEM - 8.5.2</th><th>Annual production-based emissions of carbon dioxide (CO2), measured in million tonnes</th><th>Continent</th><th>Gini index (World Bank estimate) - SI.POV.GINI</th><th>Income Classification (World Bank Definition)</th><th>Individuals using the Internet (% of population) - IT.NET.USER.ZS</th><th>Life expectancy at birth, total (years) - SP.DYN.LE00.IN</th><th>Population, total - SP.POP.TOTL</th><th>Regime Type (RoW Measure Definition)</th><th>Rural population (% of total population) - SP.RUR.TOTL.ZS</th><th>Total natural resources rents (% of GDP) - NY.GDP.TOTL.RT.ZS</th><th>Urban population (% of total population) - SP.URB.TOTL.IN.ZS</th><th>World Regions (UN SDG Definition)</th><th>name</th><th>alpha-2</th><th>country-code</th><th>iso_3166-2</th><th>region</th><th>sub-region</th><th>intermediate-region</th><th>region-code</th><th>sub-region-code</th><th>intermediate-region-code</th></tr><tr><td>str</td><td>str</td><td>str</td><td>str</td><td>str</td><td>str</td><td>str</td><td>str</td><td>str</td><td>str</td><td>str</td><td>str</td><td>str</td><td>str</td><td>str</td><td>str</td><td>str</td><td>str</td><td>str</td><td>str</td><td>str</td><td>str</td><td>str</td><td>str</td><td>str</td><td>str</td><td>str</td><td>str</td><td>str</td><td>str</td><td>str</td><td>str</td><td>str</td><td>str</td><td>str</td><td>str</td><td>str</td><td>str</td><td>str</td><td>str</td><td>str</td><td>str</td><td>str</td><td>str</td><td>str</td><td>str</td><td>str</td><td>str</td><td>str</td><td>str</td><td>str</td><td>str</td><td>str</td><td>str</td><td>str</td><td>str</td><td>str</td><td>str</td><td>str</td><td>str</td><td>str</td><td>str</td><td>str</td><td>str</td></tr></thead><tbody><tr><td>&quot;Ecuador&quot;</td><td>&quot;ECU&quot;</td><td>&quot;2000&quot;</td><td>&quot;93.53726196&quot;</td><td>&quot;-6.074535102&quot;</td><td>&quot;2.279974297&quot;</td><td>&quot;2.249033532&quot;</td><td>&quot;13.32870086&quot;</td><td>&quot;0&quot;</td><td>&quot;0.326183809&quot;</td><td>null</td><td>&quot;20.7136997&quot;</td><td>&quot;2.931010008&quot;</td><td>&quot;10&quot;</td><td>null</td><td>null</td><td>&quot;32.12753529&quot;</td><td>&quot;73.93090772&quot;</td><td>&quot;18327764882&quot;</td><td>&quot;1445.279324&quot;</td><td>&quot;9.350397446&quot;</td><td>&quot;95.20962873&quot;</td><td>&quot;26.76513796&quot;</td><td>&quot;27.33716401&quot;</td><td>&quot;96.09411369&quot;</td><td>&quot;97.24127197&quot;</td><td>&quot;14.63414634&quot;</td><td>&quot;23.25134&quot;</td><td>&quot;71.70184697&quot;</td><td>&quot;19.42849922&quot;</td><td>&quot;63.34661102&quot;</td><td>&quot;111.4111023&quot;</td><td>&quot;57.70922852&quot;</td><td>&quot;59.4646993&quot;</td><td>&quot;75.625&quot;</td><td>null</td><td>&quot;28.4&quot;</td><td>null</td><td>null</td><td>null</td><td>null</td><td>null</td><td>&quot;20.563&quot;</td><td>&quot;South America&quot;</td><td>&quot;56.4&quot;</td><td>&quot;Lower-middle i…</td><td>null</td><td>null</td><td>null</td><td>&quot;Electoral Demo…</td><td>&quot;39.701&quot;</td><td>null</td><td>null</td><td>&quot;Latin America …</td><td>&quot;Ecuador&quot;</td><td>&quot;EC&quot;</td><td>&quot;218&quot;</td><td>&quot;ISO 3166-2:EC&quot;</td><td>&quot;Americas&quot;</td><td>&quot;Latin America …</td><td>&quot;South America&quot;</td><td>&quot;19&quot;</td><td>&quot;419&quot;</td><td>&quot;5&quot;</td></tr><tr><td>&quot;St. Lucia&quot;</td><td>&quot;LCA&quot;</td><td>&quot;2000&quot;</td><td>null</td><td>null</td><td>null</td><td>&quot;0.771249762&quot;</td><td>&quot;0&quot;</td><td>&quot;0&quot;</td><td>&quot;0.360523435&quot;</td><td>null</td><td>&quot;59.11584512&quot;</td><td>&quot;8.366000175&quot;</td><td>&quot;10&quot;</td><td>null</td><td>null</td><td>null</td><td>null</td><td>&quot;932592592.6&quot;</td><td>&quot;5950.047485&quot;</td><td>null</td><td>null</td><td>null</td><td>null</td><td>&quot;3.710786087&quot;</td><td>null</td><td>&quot;11.11111111&quot;</td><td>&quot;23.23281&quot;</td><td>&quot;0&quot;</td><td>&quot;24.05290031&quot;</td><td>&quot;63.58243942&quot;</td><td>&quot;103.4909363&quot;</td><td>&quot;73.9931488&quot;</td><td>null</td><td>&quot;80.625&quot;</td><td>null</td><td>null</td><td>null</td><td>null</td><td>&quot;90&quot;</td><td>&quot;12.6&quot;</td><td>&quot;20.8&quot;</td><td>&quot;0.348&quot;</td><td>&quot;North America&quot;</td><td>null</td><td>&quot;Upper-middle i…</td><td>null</td><td>null</td><td>null</td><td>null</td><td>&quot;72.226&quot;</td><td>null</td><td>null</td><td>&quot;Latin America …</td><td>&quot;Saint Lucia&quot;</td><td>&quot;LC&quot;</td><td>&quot;662&quot;</td><td>&quot;ISO 3166-2:LC&quot;</td><td>&quot;Americas&quot;</td><td>&quot;Latin America …</td><td>&quot;Caribbean&quot;</td><td>&quot;19&quot;</td><td>&quot;419&quot;</td><td>&quot;29&quot;</td></tr><tr><td>&quot;Trinidad and T…</td><td>&quot;TTO&quot;</td><td>&quot;2000&quot;</td><td>&quot;91.29&quot;</td><td>null</td><td>null</td><td>&quot;5.881107308&quot;</td><td>&quot;11.29115152&quot;</td><td>&quot;0&quot;</td><td>&quot;0.289780793&quot;</td><td>null</td><td>&quot;45.87028023&quot;</td><td>&quot;0.628719985&quot;</td><td>&quot;6&quot;</td><td>null</td><td>null</td><td>null</td><td>null</td><td>&quot;8154338233&quot;</td><td>&quot;6435.134212&quot;</td><td>null</td><td>null</td><td>null</td><td>null</td><td>&quot;3.555413197&quot;</td><td>&quot;93.35761261&quot;</td><td>null</td><td>&quot;20.75006&quot;</td><td>&quot;0.366367467&quot;</td><td>&quot;0.761300027&quot;</td><td>&quot;60.19070816&quot;</td><td>&quot;104.9102402&quot;</td><td>null</td><td>null</td><td>&quot;63.125&quot;</td><td>null</td><td>null</td><td>null</td><td>null</td><td>&quot;92&quot;</td><td>&quot;10.2&quot;</td><td>&quot;15.1&quot;</td><td>&quot;24.191&quot;</td><td>&quot;North America&quot;</td><td>null</td><td>&quot;Upper-middle i…</td><td>null</td><td>null</td><td>null</td><td>&quot;Electoral Demo…</td><td>&quot;44.095&quot;</td><td>null</td><td>null</td><td>&quot;Latin America …</td><td>&quot;Trinidad and T…</td><td>&quot;TT&quot;</td><td>&quot;780&quot;</td><td>&quot;ISO 3166-2:TT&quot;</td><td>&quot;Americas&quot;</td><td>&quot;Latin America …</td><td>&quot;Caribbean&quot;</td><td>&quot;19&quot;</td><td>&quot;419&quot;</td><td>&quot;29&quot;</td></tr><tr><td>&quot;Macao SAR, Chi…</td><td>&quot;MAC&quot;</td><td>&quot;2000&quot;</td><td>&quot;100&quot;</td><td>null</td><td>null</td><td>&quot;0.488837289&quot;</td><td>null</td><td>null</td><td>null</td><td>null</td><td>&quot;156.1878846&quot;</td><td>&quot;10.48552036&quot;</td><td>&quot;10&quot;</td><td>null</td><td>null</td><td>&quot;89.26226342&quot;</td><td>&quot;58.85706929&quot;</td><td>&quot;6774193548&quot;</td><td>&quot;15835.99101&quot;</td><td>&quot;12.45194872&quot;</td><td>&quot;69.2361456&quot;</td><td>null</td><td>&quot;58.5002483&quot;</td><td>&quot;-1.605719644&quot;</td><td>&quot;98.33943939&quot;</td><td>null</td><td>&quot;29.95057&quot;</td><td>&quot;0&quot;</td><td>&quot;0.177499995&quot;</td><td>&quot;93.94873047&quot;</td><td>&quot;104.0669403&quot;</td><td>&quot;83.08939362&quot;</td><td>&quot;147.7625117&quot;</td><td>null</td><td>null</td><td>null</td><td>&quot;99.99&quot;</td><td>null</td><td>null</td><td>null</td><td>null</td><td>&quot;1.63&quot;</td><td>&quot;Asia&quot;</td><td>null</td><td>&quot;High income&quot;</td><td>null</td><td>null</td><td>null</td><td>null</td><td>&quot;0&quot;</td><td>null</td><td>null</td><td>&quot;Eastern and So…</td><td>&quot;Macao&quot;</td><td>&quot;MO&quot;</td><td>&quot;446&quot;</td><td>&quot;ISO 3166-2:MO&quot;</td><td>&quot;Asia&quot;</td><td>&quot;Eastern Asia&quot;</td><td>null</td><td>&quot;142&quot;</td><td>&quot;30&quot;</td><td>null</td></tr><tr><td>&quot;United States&quot;</td><td>&quot;USA&quot;</td><td>&quot;2000&quot;</td><td>&quot;100&quot;</td><td>&quot;2.792936204&quot;</td><td>&quot;8.840900501&quot;</td><td>&quot;1.018018888&quot;</td><td>&quot;0.679954011&quot;</td><td>&quot;0&quot;</td><td>&quot;0.124382217&quot;</td><td>null</td><td>&quot;68.50483165&quot;</td><td>null</td><td>&quot;12&quot;</td><td>null</td><td>null</td><td>&quot;10.69272396&quot;</td><td>&quot;79.98304416&quot;</td><td>&quot;10252300000000…</td><td>&quot;36334.90878&quot;</td><td>&quot;14.02601&quot;</td><td>&quot;103.6581925&quot;</td><td>&quot;20.84075305&quot;</td><td>&quot;14.35091126&quot;</td><td>&quot;3.376857271&quot;</td><td>null</td><td>null</td><td>null</td><td>&quot;8.205996942&quot;</td><td>&quot;5.429699898&quot;</td><td>null</td><td>&quot;100.7299576&quot;</td><td>&quot;94.04963684&quot;</td><td>&quot;25.04363522&quot;</td><td>&quot;83.75&quot;</td><td>null</td><td>&quot;0.7&quot;</td><td>&quot;99&quot;</td><td>null</td><td>null</td><td>&quot;3.9&quot;</td><td>&quot;4.1&quot;</td><td>&quot;5998.07&quot;</td><td>&quot;North America&quot;</td><td>&quot;40.1&quot;</td><td>&quot;High income&quot;</td><td>null</td><td>null</td><td>null</td><td>&quot;Liberal Democr…</td><td>&quot;20.943&quot;</td><td>null</td><td>null</td><td>&quot;Europe and Nor…</td><td>&quot;United States&quot;</td><td>&quot;US&quot;</td><td>&quot;840&quot;</td><td>&quot;ISO 3166-2:US&quot;</td><td>&quot;Americas&quot;</td><td>&quot;Northern Ameri…</td><td>null</td><td>&quot;19&quot;</td><td>&quot;21&quot;</td><td>null</td></tr></tbody></table></div>"
      ],
      "text/plain": [
       "shape: (5, 64)\n",
       "┌────────────┬────────────┬──────┬────────────┬───┬────────────┬───────────┬───────────┬───────────┐\n",
       "│ Country    ┆ Country    ┆ Year ┆ Access to  ┆ … ┆ intermedia ┆ region-co ┆ sub-regio ┆ intermedi │\n",
       "│ Name       ┆ Code       ┆ ---  ┆ electricit ┆   ┆ te-region  ┆ de        ┆ n-code    ┆ ate-regio │\n",
       "│ ---        ┆ ---        ┆ str  ┆ y (% of    ┆   ┆ ---        ┆ ---       ┆ ---       ┆ n-code    │\n",
       "│ str        ┆ str        ┆      ┆ popu…      ┆   ┆ str        ┆ str       ┆ str       ┆ ---       │\n",
       "│            ┆            ┆      ┆ ---        ┆   ┆            ┆           ┆           ┆ str       │\n",
       "│            ┆            ┆      ┆ str        ┆   ┆            ┆           ┆           ┆           │\n",
       "╞════════════╪════════════╪══════╪════════════╪═══╪════════════╪═══════════╪═══════════╪═══════════╡\n",
       "│ Ecuador    ┆ ECU        ┆ 2000 ┆ 93.5372619 ┆ … ┆ South      ┆ 19        ┆ 419       ┆ 5         │\n",
       "│            ┆            ┆      ┆ 6          ┆   ┆ America    ┆           ┆           ┆           │\n",
       "│ St. Lucia  ┆ LCA        ┆ 2000 ┆ null       ┆ … ┆ Caribbean  ┆ 19        ┆ 419       ┆ 29        │\n",
       "│ Trinidad   ┆ TTO        ┆ 2000 ┆ 91.29      ┆ … ┆ Caribbean  ┆ 19        ┆ 419       ┆ 29        │\n",
       "│ and Tobago ┆            ┆      ┆            ┆   ┆            ┆           ┆           ┆           │\n",
       "│ Macao SAR, ┆ MAC        ┆ 2000 ┆ 100        ┆ … ┆ null       ┆ 142       ┆ 30        ┆ null      │\n",
       "│ China      ┆            ┆      ┆            ┆   ┆            ┆           ┆           ┆           │\n",
       "│ United     ┆ USA        ┆ 2000 ┆ 100        ┆ … ┆ null       ┆ 19        ┆ 21        ┆ null      │\n",
       "│ States     ┆            ┆      ┆            ┆   ┆            ┆           ┆           ┆           │\n",
       "└────────────┴────────────┴──────┴────────────┴───┴────────────┴───────────┴───────────┴───────────┘"
      ]
     },
     "execution_count": 11,
     "metadata": {},
     "output_type": "execute_result"
    }
   ],
   "source": [
    "merged.unique(subset='Country Name').sample(5)"
   ]
  },
  {
   "cell_type": "code",
   "execution_count": 12,
   "metadata": {},
   "outputs": [],
   "source": [
    "merged.write_csv(\"../data/sustainability_w_regions.csv\")"
   ]
  }
 ],
 "metadata": {
  "kernelspec": {
   "display_name": "fcs",
   "language": "python",
   "name": "python3"
  },
  "language_info": {
   "codemirror_mode": {
    "name": "ipython",
    "version": 3
   },
   "file_extension": ".py",
   "mimetype": "text/x-python",
   "name": "python",
   "nbconvert_exporter": "python",
   "pygments_lexer": "ipython3",
   "version": "3.11.0"
  }
 },
 "nbformat": 4,
 "nbformat_minor": 2
}
