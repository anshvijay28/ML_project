{
 "cells": [
  {
   "cell_type": "code",
   "execution_count": 33,
   "id": "3c0e4a25-0a87-49d6-ada6-5e2b7fad0443",
   "metadata": {},
   "outputs": [],
   "source": [
    "import numpy as np\n",
    "import pandas as pd\n",
    "import matplotlib.pyplot as plt\n",
    "from sklearn.cluster import DBSCAN\n",
    "from sklearn import metrics\n"
   ]
  },
  {
   "cell_type": "code",
   "execution_count": 31,
   "id": "6d929f33-fc1d-499a-b0d9-fbf9518a8abb",
   "metadata": {},
   "outputs": [
    {
     "name": "stdout",
     "output_type": "stream",
     "text": [
      "number of clusters:1\n"
     ]
    }
   ],
   "source": [
    "data = pd.read_csv(\"../data/reduced_sustainability_data.csv\")\n",
    "ep = 20\n",
    "minCluster = 3\n",
    "model = DBSCAN(eps=ep, min_samples=minCluster)\n",
    "db = model.fit(data)\n",
    "num_clusters = len(set(db.labels_)) - (1 if -1 in db.labels_ else 0)\n",
    "print(\"number of clusters:\" + str(num_clusters))"
   ]
  },
  {
   "cell_type": "code",
   "execution_count": 39,
   "id": "2e994e1a-645c-468a-a4f5-e8ba46375e1c",
   "metadata": {},
   "outputs": [
    {
     "name": "stdout",
     "output_type": "stream",
     "text": [
      "Silhouette Coefficient: -0.742\n",
      "Davies Bouldin Score: 1.432\n"
     ]
    }
   ],
   "source": [
    "\n",
    "print(f\"Silhouette Coefficient: {metrics.silhouette_score(data, db.labels_):.3f}\")\n",
    "print(f\"Davies Bouldin Score: {metrics.davies_bouldin_score(data, db.labels_):.3f}\")"
   ]
  },
  {
   "cell_type": "code",
   "execution_count": null,
   "id": "5404d51b-635e-4280-aca8-2e497cccb678",
   "metadata": {},
   "outputs": [],
   "source": []
  },
  {
   "cell_type": "code",
   "execution_count": null,
   "id": "616817c5-a035-4179-81f8-c435fc32ea9c",
   "metadata": {},
   "outputs": [],
   "source": []
  }
 ],
 "metadata": {
  "kernelspec": {
   "display_name": "Python 3 (ipykernel)",
   "language": "python",
   "name": "python3"
  },
  "language_info": {
   "codemirror_mode": {
    "name": "ipython",
    "version": 3
   },
   "file_extension": ".py",
   "mimetype": "text/x-python",
   "name": "python",
   "nbconvert_exporter": "python",
   "pygments_lexer": "ipython3",
   "version": "3.10.8"
  }
 },
 "nbformat": 4,
 "nbformat_minor": 5
}
